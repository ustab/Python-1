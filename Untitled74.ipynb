{
  "nbformat": 4,
  "nbformat_minor": 0,
  "metadata": {
    "colab": {
      "name": "Untitled74.ipynb",
      "provenance": [],
      "authorship_tag": "ABX9TyMDucR/xKpp6zsPqFnKtdlj",
      "include_colab_link": true
    },
    "kernelspec": {
      "name": "python3",
      "display_name": "Python 3"
    },
    "language_info": {
      "name": "python"
    }
  },
  "cells": [
    {
      "cell_type": "markdown",
      "metadata": {
        "id": "view-in-github",
        "colab_type": "text"
      },
      "source": [
        "<a href=\"https://colab.research.google.com/github/ustab/Python-1/blob/master/Untitled74.ipynb\" target=\"_parent\"><img src=\"https://colab.research.google.com/assets/colab-badge.svg\" alt=\"Open In Colab\"/></a>"
      ]
    },
    {
      "cell_type": "code",
      "execution_count": 5,
      "metadata": {
        "colab": {
          "base_uri": "https://localhost:8080/"
        },
        "id": "Egnbu_xLV4Mv",
        "outputId": "fc04921f-d3c3-4d8e-e62f-9dc94828628b"
      },
      "outputs": [
        {
          "output_type": "stream",
          "name": "stdout",
          "text": [
            "Döngü Bitti\n"
          ]
        }
      ],
      "source": [
        "sayilar = [8,15,17,85,65,36,10,120,32,34,268,10,5,4,32]\n",
        " \n",
        "for sayi in sayilar:\n",
        "   if (sayi%7 ==0 or sayi%5) and (sayi%35 == 0):\n",
        "      print ('sonuc bu :'+ str(sayi))\n",
        "else:\n",
        "   print ('Döngü Bitti')"
      ]
    },
    {
      "cell_type": "code",
      "source": [
        "sayilar = [8,15,17,85,65,36,10,120,32,34,268,270,10,5,4,32]\n",
        " \n",
        "for sayi in sayilar:\n",
        "   if (sayi%7 ==0 and sayi%5) or (sayi%135 == 0):\n",
        "      print ('sonuc bu :'+ str(sayi))\n",
        "else:\n",
        "   print ('Döngü Bitti')"
      ],
      "metadata": {
        "colab": {
          "base_uri": "https://localhost:8080/"
        },
        "id": "6f2chOGtWvc5",
        "outputId": "817bee77-43b4-4766-a0d5-ef8528c9a9f4"
      },
      "execution_count": 10,
      "outputs": [
        {
          "output_type": "stream",
          "name": "stdout",
          "text": [
            "sonuc bu :270\n",
            "Döngü Bitti\n"
          ]
        }
      ]
    }
  ]
}