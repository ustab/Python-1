{
  "nbformat": 4,
  "nbformat_minor": 0,
  "metadata": {
    "colab": {
      "name": "Untitled73.ipynb",
      "provenance": [],
      "authorship_tag": "ABX9TyNLBiEY5sMiKkrh1++4umO3",
      "include_colab_link": true
    },
    "kernelspec": {
      "name": "python3",
      "display_name": "Python 3"
    },
    "language_info": {
      "name": "python"
    }
  },
  "cells": [
    {
      "cell_type": "markdown",
      "metadata": {
        "id": "view-in-github",
        "colab_type": "text"
      },
      "source": [
        "<a href=\"https://colab.research.google.com/github/ustab/Python-1/blob/master/Untitled73.ipynb\" target=\"_parent\"><img src=\"https://colab.research.google.com/assets/colab-badge.svg\" alt=\"Open In Colab\"/></a>"
      ]
    },
    {
      "cell_type": "code",
      "execution_count": 1,
      "metadata": {
        "colab": {
          "base_uri": "https://localhost:8080/"
        },
        "id": "nCj-be-OTQjr",
        "outputId": "31fb69a9-8a04-4431-ea46-8777e9e35a09"
      },
      "outputs": [
        {
          "output_type": "stream",
          "name": "stdout",
          "text": [
            "Çift Sayı :8\n",
            "Çift Sayı :36\n",
            "Çift Sayı :10\n",
            "Çift Sayı :120\n",
            "Çift Sayı :32\n",
            "Çift Sayı :34\n",
            "Çift Sayı :268\n",
            "Çift Sayı :10\n",
            "Çift Sayı :4\n",
            "Çift Sayı :32\n",
            "Döngü Bitti\n"
          ]
        }
      ],
      "source": [
        " \n",
        "sayilar = [8,15,17,85,65,36,10,120,32,34,268,10,5,4,32]\n",
        " \n",
        "for sayi in sayilar:\n",
        "   if sayi%2 == 0:\n",
        "      print ('Çift Sayı :'+ str(sayi))\n",
        "else:\n",
        "   print ('Döngü Bitti')"
      ]
    },
    {
      "cell_type": "code",
      "source": [
        " \n",
        "sayilar = [8,15,17,85,65,36,10,120,32,34,268,10,5,4,32]\n",
        " \n",
        "for sayi in sayilar:\n",
        "   if sayi%2!= 0:\n",
        "      print ('tek sayi :'+ str(sayi))\n",
        "else:\n",
        "   print ('Döngü Bitti')"
      ],
      "metadata": {
        "colab": {
          "base_uri": "https://localhost:8080/"
        },
        "id": "KAVd_XhvTVs6",
        "outputId": "63a40e82-1412-4da9-f7fd-55e5c098ba2f"
      },
      "execution_count": 3,
      "outputs": [
        {
          "output_type": "stream",
          "name": "stdout",
          "text": [
            "tek sayi :15\n",
            "tek sayi :17\n",
            "tek sayi :85\n",
            "tek sayi :65\n",
            "tek sayi :5\n",
            "Döngü Bitti\n"
          ]
        }
      ]
    },
    {
      "cell_type": "code",
      "source": [
        " \n",
        "sayilar = [8,15,17,85,65,36,10,120,32,34,268,10,5,4,32]\n",
        " \n",
        "for sayi in sayilar:\n",
        "   if sayi%2 == 0 and sayi%4==0: \n",
        "      print (\"2 ve 4 e bolunen sayilar:\"+ str(sayi))\n",
        "else:\n",
        "   print ('Döngü Bitti')"
      ],
      "metadata": {
        "colab": {
          "base_uri": "https://localhost:8080/"
        },
        "id": "LqAHmGORTnPW",
        "outputId": "1cb7066d-798c-4220-8ed1-d982f6cd0dfb"
      },
      "execution_count": 4,
      "outputs": [
        {
          "output_type": "stream",
          "name": "stdout",
          "text": [
            "2 ve 4 e bolunen sayilar:8\n",
            "2 ve 4 e bolunen sayilar:36\n",
            "2 ve 4 e bolunen sayilar:120\n",
            "2 ve 4 e bolunen sayilar:32\n",
            "2 ve 4 e bolunen sayilar:268\n",
            "2 ve 4 e bolunen sayilar:4\n",
            "2 ve 4 e bolunen sayilar:32\n",
            "Döngü Bitti\n"
          ]
        }
      ]
    },
    {
      "cell_type": "code",
      "source": [
        " \n",
        "sayilar = [8,15,17,85,65,36,10,120,32,34,268,10,5,4,32]\n",
        " \n",
        "for sayi in sayilar:\n",
        "   if sayi%3 ==0 or sayi%5 == 0:\n",
        "      print ('uc ve bes e bolunebilir :'+ str(sayi))\n",
        "else:\n",
        "   print ('Döngü Bitti')"
      ],
      "metadata": {
        "colab": {
          "base_uri": "https://localhost:8080/"
        },
        "id": "ehrrRxYLUGTC",
        "outputId": "18b1bd52-89cc-462d-bbea-5893b018ceeb"
      },
      "execution_count": 6,
      "outputs": [
        {
          "output_type": "stream",
          "name": "stdout",
          "text": [
            "uc ve bes e bolunebilir :15\n",
            "uc ve bes e bolunebilir :85\n",
            "uc ve bes e bolunebilir :65\n",
            "uc ve bes e bolunebilir :36\n",
            "uc ve bes e bolunebilir :10\n",
            "uc ve bes e bolunebilir :120\n",
            "uc ve bes e bolunebilir :10\n",
            "uc ve bes e bolunebilir :5\n",
            "Döngü Bitti\n"
          ]
        }
      ]
    },
    {
      "cell_type": "code",
      "source": [
        "sayilar = [8,15,17,85,65,36,10,120,32,34,268,10,5,4,32]\n",
        " \n",
        "for sayi in sayilar:\n",
        "   if (sayi%13 ==0 or sayi%5) and (sayi%36 == 0):\n",
        "      print ('sonuc bu :'+ str(sayi))\n",
        "else:\n",
        "   print ('Döngü Bitti')"
      ],
      "metadata": {
        "colab": {
          "base_uri": "https://localhost:8080/"
        },
        "id": "GWUbL3TGUmBi",
        "outputId": "644f6ac6-7c79-4e00-a3bc-73f81815f35a"
      },
      "execution_count": 15,
      "outputs": [
        {
          "output_type": "stream",
          "name": "stdout",
          "text": [
            "sonuc bu :36\n",
            "Döngü Bitti\n"
          ]
        }
      ]
    }
  ]
}