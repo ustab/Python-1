{
  "nbformat": 4,
  "nbformat_minor": 0,
  "metadata": {
    "colab": {
      "name": "Untitled54.ipynb",
      "provenance": [],
      "authorship_tag": "ABX9TyNPiPgGWMEBtOTAyWon7Wv2"
    },
    "kernelspec": {
      "name": "python3",
      "display_name": "Python 3"
    },
    "language_info": {
      "name": "python"
    }
  },
  "cells": [
    {
      "cell_type": "code",
      "execution_count": 19,
      "metadata": {
        "colab": {
          "base_uri": "https://localhost:8080/",
          "height": 35
        },
        "id": "H-hO8fz-mUWt",
        "outputId": "f64fe8bb-58f9-45c8-c902-0d5686856ba5"
      },
      "outputs": [
        {
          "output_type": "execute_result",
          "data": {
            "application/vnd.google.colaboratory.intrinsic+json": {
              "type": "string"
            },
            "text/plain": [
              "\"my_name is ['Mariam']\""
            ]
          },
          "metadata": {},
          "execution_count": 19
        }
      ],
      "source": [
        "my_name=\"MARIAM\"\n",
        "f'my_name is {my_name.capitalize().split()}'"
      ]
    },
    {
      "cell_type": "code",
      "source": [
        ""
      ],
      "metadata": {
        "id": "_Xg4Y7WlpPLl"
      },
      "execution_count": null,
      "outputs": []
    },
    {
      "cell_type": "code",
      "source": [
        "name=input(\"enter your name:\")\n",
        "status=input(\"enter your status:\")\n",
        "f\"hi {name}, are you a {status}?\""
      ],
      "metadata": {
        "colab": {
          "base_uri": "https://localhost:8080/",
          "height": 70
        },
        "id": "WJD_k5lAtbJF",
        "outputId": "c671123d-d17b-4068-eadf-54020b1cd0f2"
      },
      "execution_count": 31,
      "outputs": [
        {
          "name": "stdout",
          "output_type": "stream",
          "text": [
            "enter your name:burhanettin\n",
            "enter your status:doktor\n"
          ]
        },
        {
          "output_type": "execute_result",
          "data": {
            "application/vnd.google.colaboratory.intrinsic+json": {
              "type": "string"
            },
            "text/plain": [
              "'hi burhanettin, are you a doktor?'"
            ]
          },
          "metadata": {},
          "execution_count": 31
        }
      ]
    },
    {
      "cell_type": "code",
      "source": [
        "#\"Susan is a young lady and she is a student at the CLRWY IT university.\"\n",
        "name=\"Susan\"\n",
        "gender=\"lady\"\n",
        "age=\"young\"\n",
        "status=\"student\"\n",
        "course=\"CLRWY IT\"\n",
        "place=\"university\"\n",
        "f\"{name} is a {age} {sex}  and she is a {status} at the {course} {place}.\"\n",
        "#f\"{name} is a {age} {sex} \\  and she is a {status}}\\ at the {course} {place}.\""
      ],
      "metadata": {
        "colab": {
          "base_uri": "https://localhost:8080/",
          "height": 35
        },
        "id": "GK3CAhskuzl6",
        "outputId": "dd0de429-0c61-42df-b560-2c3bfe744cfc"
      },
      "execution_count": 33,
      "outputs": [
        {
          "output_type": "execute_result",
          "data": {
            "application/vnd.google.colaboratory.intrinsic+json": {
              "type": "string"
            },
            "text/plain": [
              "'Susan is a young lady  and she is a student at the CLRWY IT university.'"
            ]
          },
          "metadata": {},
          "execution_count": 33
        }
      ]
    },
    {
      "cell_type": "code",
      "source": [
        "#\"Susan is a young lady and she is a student at the CLRWY IT university.\"\n",
        "name=input(\"your name please:\")\n",
        "gender=input(\"your gender please:\")\n",
        "age=input(\"your age please:\")\n",
        "status=input(\"your status please:\")\n",
        "course=input(\"your course please:\")\n",
        "place=input(\"your place please:\")\n",
        "\"\"\"name=\"Susan\"\n",
        "gender=\"lady\"\n",
        "age=\"young\"\n",
        "status=\"student\"\n",
        "course=\"CLRWY IT\"\n",
        "place=\"university\"\n",
        "\"\"\"\n",
        "f\"{name} {age} yasinda bir {gender} olup {place}'da {status}dur.\"\n"
      ],
      "metadata": {
        "colab": {
          "base_uri": "https://localhost:8080/",
          "height": 140
        },
        "id": "sJtp_zOYxDW9",
        "outputId": "acb392e2-d859-4e99-97ff-40fce8247889"
      },
      "execution_count": 38,
      "outputs": [
        {
          "name": "stdout",
          "output_type": "stream",
          "text": [
            "your name please:burhan\n",
            "your gender please:erkek\n",
            "your age please:55\n",
            "your status please:doktor\n",
            "your course please:it\n",
            "your place please:nizamiye\n"
          ]
        },
        {
          "output_type": "execute_result",
          "data": {
            "application/vnd.google.colaboratory.intrinsic+json": {
              "type": "string"
            },
            "text/plain": [
              "\"burhan 55 yasinda bir erkek olup nizamiye'da doktordur.\""
            ]
          },
          "metadata": {},
          "execution_count": 38
        }
      ]
    }
  ]
}