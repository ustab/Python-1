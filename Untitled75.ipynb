{
  "nbformat": 4,
  "nbformat_minor": 0,
  "metadata": {
    "colab": {
      "name": "Untitled75.ipynb",
      "provenance": [],
      "authorship_tag": "ABX9TyPtr8R2y/q9rScU4n38vpJg",
      "include_colab_link": true
    },
    "kernelspec": {
      "name": "python3",
      "display_name": "Python 3"
    },
    "language_info": {
      "name": "python"
    }
  },
  "cells": [
    {
      "cell_type": "markdown",
      "metadata": {
        "id": "view-in-github",
        "colab_type": "text"
      },
      "source": [
        "<a href=\"https://colab.research.google.com/github/ustab/Python-1/blob/master/Untitled75.ipynb\" target=\"_parent\"><img src=\"https://colab.research.google.com/assets/colab-badge.svg\" alt=\"Open In Colab\"/></a>"
      ]
    },
    {
      "cell_type": "code",
      "execution_count": 15,
      "metadata": {
        "colab": {
          "base_uri": "https://localhost:8080/"
        },
        "id": "uXp8bBIhYGP0",
        "outputId": "5fe08583-15bd-4b89-e0f2-759e1387a216"
      },
      "outputs": [
        {
          "output_type": "stream",
          "name": "stdout",
          "text": [
            "1- 2- 3- 4- 5- 6- 7- 8- 9- 10- "
          ]
        }
      ],
      "source": [
        "for sayi in list(range(1,11)):\n",
        "    print(sayi, end=\"- \")"
      ]
    },
    {
      "cell_type": "code",
      "source": [
        "\n",
        "  \n",
        "    "
      ],
      "metadata": {
        "id": "iRKihP0kYzTC"
      },
      "execution_count": null,
      "outputs": []
    },
    {
      "cell_type": "code",
      "source": [
        "word=input(\"give a word:\")\n",
        "counter=0\n",
        "for i in word:\n",
        "  counter+=1\n",
        "  if counter < len(word):\n",
        "    i+=\" = \"\n",
        "            \n",
        "  print(i, end = \" \")"
      ],
      "metadata": {
        "colab": {
          "base_uri": "https://localhost:8080/"
        },
        "id": "4Z2ntsOdb-Lp",
        "outputId": "f65b5341-ef5e-49fc-87e2-071809d3ecec"
      },
      "execution_count": 63,
      "outputs": [
        {
          "output_type": "stream",
          "name": "stdout",
          "text": [
            "give a word:nasi\n",
            "n =  a =  s =  i "
          ]
        }
      ]
    },
    {
      "cell_type": "code",
      "source": [
        "kelime= input(\"kelime\")\n",
        "counter=0\n",
        "for i in kelime:\n",
        "  counter+=1\n",
        "  if counter < len(kelime): \n",
        "   #i+=\"NE\"\n",
        "    print(i, end=\"NE\")\n"
      ],
      "metadata": {
        "colab": {
          "base_uri": "https://localhost:8080/"
        },
        "id": "B7IszqdajbCA",
        "outputId": "a0f50a1c-f817-40de-b0e2-2b0b4748ce09"
      },
      "execution_count": 92,
      "outputs": [
        {
          "output_type": "stream",
          "name": "stdout",
          "text": [
            "kelimeCECE\n",
            "CNEENECNE"
          ]
        }
      ]
    },
    {
      "cell_type": "code",
      "source": [
        "kelime= input(\"kelime\")\n",
        "for i in kelime:\n",
        "  print(i, end=\" NE \")"
      ],
      "metadata": {
        "colab": {
          "base_uri": "https://localhost:8080/"
        },
        "id": "U4R2zZvtmNdQ",
        "outputId": "c9f57c5c-37f6-46a3-d8b7-9354744a96ae"
      },
      "execution_count": 79,
      "outputs": [
        {
          "output_type": "stream",
          "name": "stdout",
          "text": [
            "kelimekelime\n",
            "k NE e NE l NE i NE m NE e NE "
          ]
        }
      ]
    },
    {
      "cell_type": "code",
      "source": [
        "list=(1,2,3,)\n",
        "for i in list:\n",
        "  print(list, end=\"\")"
      ],
      "metadata": {
        "colab": {
          "base_uri": "https://localhost:8080/"
        },
        "id": "ppLdFbD2cYi3",
        "outputId": "f6883a20-3e62-4347-9043-ca1059333f58"
      },
      "execution_count": 46,
      "outputs": [
        {
          "output_type": "stream",
          "name": "stdout",
          "text": [
            "(1, 2, 3)(1, 2, 3)(1, 2, 3)"
          ]
        }
      ]
    }
  ]
}