{
  "nbformat": 4,
  "nbformat_minor": 0,
  "metadata": {
    "colab": {
      "name": "Untitled55.ipynb",
      "provenance": [],
      "authorship_tag": "ABX9TyOZ+73aAYYTgfWvk4RLUw/r"
    },
    "kernelspec": {
      "name": "python3",
      "display_name": "Python 3"
    },
    "language_info": {
      "name": "python"
    }
  },
  "cells": [
    {
      "cell_type": "code",
      "execution_count": 24,
      "metadata": {
        "colab": {
          "base_uri": "https://localhost:8080/"
        },
        "id": "yEUws5aY1JLb",
        "outputId": "7eeb4603-40c3-4405-c59a-618484bce7d2"
      },
      "outputs": [
        {
          "output_type": "execute_result",
          "data": {
            "text/plain": [
              "['ALI, VELI, SELAMI']"
            ]
          },
          "metadata": {},
          "execution_count": 24
        }
      ],
      "source": [
        "isim=\"ali, VELI, seLAmi\"\n",
        "isim.swapcase().lower().upper().lower().upper().split(\"[0], ,[2] \")\n",
        " \n"
      ]
    },
    {
      "cell_type": "code",
      "source": [
        "var_string= \"In God We Trust\"\n",
        "#var_string.lower()#bu durum outputtur.calisir ama print sonucu degistirmez cunku varyl burda immutable dir\n",
        "\n",
        "#print(var_string)\n",
        "print(var_string.lower())"
      ],
      "metadata": {
        "colab": {
          "base_uri": "https://localhost:8080/"
        },
        "id": "he9MC7OH9xKg",
        "outputId": "b8bedc9b-dfa8-4f6f-a547-33a48e2f4751"
      },
      "execution_count": 31,
      "outputs": [
        {
          "output_type": "stream",
          "name": "stdout",
          "text": [
            "in god we trust\n"
          ]
        }
      ]
    },
    {
      "cell_type": "code",
      "source": [
        "text='www.clarusway.com'\n",
        "print(text.endswith('.com'))\n",
        "print(text.startswith('http:'))"
      ],
      "metadata": {
        "colab": {
          "base_uri": "https://localhost:8080/"
        },
        "id": "WAhjoAxI_txT",
        "outputId": "1cedc529-d893-437d-c9ad-08cad7d4b477"
      },
      "execution_count": 32,
      "outputs": [
        {
          "output_type": "stream",
          "name": "stdout",
          "text": [
            "True\n",
            "False\n"
          ]
        }
      ]
    }
  ]
}